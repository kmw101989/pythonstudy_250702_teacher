{
 "cells": [
  {
   "cell_type": "code",
   "execution_count": 2,
   "id": "0b4463cf-4ce9-40c5-908d-b6ca48b4c61c",
   "metadata": {},
   "outputs": [
    {
     "name": "stdout",
     "output_type": "stream",
     "text": [
      "[]\n"
     ]
    }
   ],
   "source": [
    "import requests\n",
    "from bs4 import BeautifulSoup\n",
    "from openpyxl import Workbook\n",
    "\n",
    "url = \"https://www.kurly.com/goods/5037452\"\n",
    "res = requests.get(url)\n",
    "soup = BeautifulSoup(res.text, \"html.parser\")\n",
    "\n",
    "test = soup.select(\".css-y49dcn.e36z05c13\")\n",
    "print(test)"
   ]
  },
  {
   "cell_type": "code",
   "execution_count": 3,
   "id": "5350f3fc-de90-4259-8ddd-dddd96344703",
   "metadata": {},
   "outputs": [
    {
     "name": "stdout",
     "output_type": "stream",
     "text": [
      "Requirement already satisfied: selenium in /opt/anaconda3/lib/python3.13/site-packages (4.34.0)\n",
      "Requirement already satisfied: urllib3~=2.4.0 in /opt/anaconda3/lib/python3.13/site-packages (from urllib3[socks]~=2.4.0->selenium) (2.4.0)\n",
      "Requirement already satisfied: trio~=0.30.0 in /opt/anaconda3/lib/python3.13/site-packages (from selenium) (0.30.0)\n",
      "Requirement already satisfied: trio-websocket~=0.12.2 in /opt/anaconda3/lib/python3.13/site-packages (from selenium) (0.12.2)\n",
      "Requirement already satisfied: certifi>=2025.4.26 in /opt/anaconda3/lib/python3.13/site-packages (from selenium) (2025.4.26)\n",
      "Requirement already satisfied: typing_extensions~=4.14.0 in /opt/anaconda3/lib/python3.13/site-packages (from selenium) (4.14.0)\n",
      "Requirement already satisfied: websocket-client~=1.8.0 in /opt/anaconda3/lib/python3.13/site-packages (from selenium) (1.8.0)\n",
      "Requirement already satisfied: attrs>=23.2.0 in /opt/anaconda3/lib/python3.13/site-packages (from trio~=0.30.0->selenium) (24.3.0)\n",
      "Requirement already satisfied: sortedcontainers in /opt/anaconda3/lib/python3.13/site-packages (from trio~=0.30.0->selenium) (2.4.0)\n",
      "Requirement already satisfied: idna in /opt/anaconda3/lib/python3.13/site-packages (from trio~=0.30.0->selenium) (3.7)\n",
      "Requirement already satisfied: outcome in /opt/anaconda3/lib/python3.13/site-packages (from trio~=0.30.0->selenium) (1.3.0.post0)\n",
      "Requirement already satisfied: sniffio>=1.3.0 in /opt/anaconda3/lib/python3.13/site-packages (from trio~=0.30.0->selenium) (1.3.0)\n",
      "Requirement already satisfied: wsproto>=0.14 in /opt/anaconda3/lib/python3.13/site-packages (from trio-websocket~=0.12.2->selenium) (1.2.0)\n",
      "Requirement already satisfied: pysocks!=1.5.7,<2.0,>=1.5.6 in /opt/anaconda3/lib/python3.13/site-packages (from urllib3[socks]~=2.4.0->selenium) (1.7.1)\n",
      "Requirement already satisfied: h11<1,>=0.9.0 in /opt/anaconda3/lib/python3.13/site-packages (from wsproto>=0.14->trio-websocket~=0.12.2->selenium) (0.16.0)\n",
      "Note: you may need to restart the kernel to use updated packages.\n"
     ]
    }
   ],
   "source": [
    "pip install selenium"
   ]
  },
  {
   "cell_type": "code",
   "execution_count": 3,
   "id": "dade5abd-fe6e-4b5f-a1ba-49c4621de7df",
   "metadata": {},
   "outputs": [
    {
     "name": "stderr",
     "output_type": "stream",
     "text": [
      "The chromedriver version (137.0.7151.104) detected in PATH at /usr/local/bin/chromedriver might not be compatible with the detected chrome version (138.0.7204.101); currently, chromedriver 138.0.7204.94 is recommended for chrome 138.*, so it is advised to delete the driver in PATH and retry\n"
     ]
    },
    {
     "name": "stdout",
     "output_type": "stream",
     "text": [
      "헤어 오일하면 역시 모로칸오일!\n",
      "\n",
      "예전엔 늘 백화점에서 구매했는데, 인기 있는 제품이다 보니 재입고 일정 맞추기도 어렵고 기다림이 꽤 있었어요. 그런데 이번엔 컬리에서 샛별배송으로 바로 받아볼 수 있어서 정말 편하더라고요. 퇴근하고 주문했는데 다음 날 아침, 바로 현관 앞에 도착! 이래서 컬리를 못 끊는 이유죠.\n",
      "\n",
      "모로칸오일은 워낙 유명해서 설명이 필요 없을 정도예요. 향이 고급스럽고 머릿결을 찰랑거리게 해주는 오일로, 손상모나 건조모에는 특히 더 효과가 확실해요. 저처럼 자주 염색·드라이 하는 모발에 발라주면, 푸석함 없이 차분하게 정돈되면서 윤기가 살아나요.\n",
      "\n",
      "끈적임 없이 흡수도 빨라서 사계절 내내 부담 없이 사용 가능하고, 소량으로도 충분해서 오래 쓰게 돼요. 드라이 전/후로 나눠 바르면 더 효과적이에요. 백화점 정품 그대로, 빠르게 받을 수 있다는 점에서 컬리에서 재구매할 이유가 확실해졌어요. 앞으로도 쭉 컬리에서 구매할 예정입니다!\n",
      "모로칸 오일은 너무나도 유명하죠?\n",
      "전 면세점 갈 일 있음 꼭 쟁이곤 하는데요\n",
      "\n",
      "면세점보다 혜택이 좋은 곳은?\n",
      "바로 컬리에요 🤗\n",
      "\n",
      "멤버스 혜택 또는 뷰티컬리데이에는 면세점보다 \n",
      "더 좋은 혜택으로 살 수 있어요 \n",
      "전 컬리에서 벌써 3번 이상 구매했는 걸요?\n",
      "\n",
      "똑 떨어지면 몇날 몇일 기다리지 않고 \n",
      "담날 새벽이면 오니까 \n",
      "내 머리결까지 컬리가 지켜줍니다\n",
      "\n",
      "✅ 제형\n",
      "노란빛 도는 점성있는 오일 제형\n",
      "\n",
      "✅ 향\n",
      "무난하니 호불호 없는 향\n",
      "(헤어제품으로 아르간 오일이 좋다고 해서 \n",
      "사서 써본 적이 있는데 저에겐 불호 였네요)\n",
      "\n",
      "✅  효과\n",
      "이게 제일 중요한데 젖은 머리에 발라두면\n",
      "마르고 나서도 머리가 엉킴없이 부드러워요\n",
      "머리에서 윤기도 나고요 ✨✨\n",
      "\n",
      "\n",
      "헤어오일 잘 못 쓰면 기름져서 떡지기도 하자나요😭\n",
      "모로칸 오일은 그런 것 없이 머리카락에 싹 스며들면서\n",
      "찰랑이는 머리결을 유지한다는 게 신통방통!!\n",
      "\n",
      "역시는 역시, 유명한 데는 다 이유가 있다!\n",
      "모로칸 오일이 다시 한번 증명하네요 🤗\n",
      "\n",
      "앞으론 쭉 모로칸 오일은 컬리에서만 \n",
      "사게될 것 같아요 🫶🏻\n",
      "머리감고 물기만 수건으로 톡톡하고\n",
      "모로칸오일 젖은 머리카락에 발라주고\n",
      "드라이하고 또 모로칸오일 발라줬는데\n",
      "머리카락이 부들부들\n",
      "오늘 처음 썼는데 너무 좋아요~^^\n",
      "잦은 염색으로 머리카락이 푸석푸석하고 머리결도 안좋고, 머리가 끊어지고 그래서\n",
      "스트레스였는데 컬리에서 저렴하게 살 수 있어서 넘 좋아요\n",
      "꾸준하게 쓰면 머리결 좋아질 거 같아요~\n",
      "모로칸만써요 다른거 저렴한거 써봐도 모로칸이최고\n",
      "평소 쓰는 오일을 할인쿠폰 쓰고 잘 구매했어요.\n",
      "좋아요 컬리!\n",
      "모로칸오일이 베스트인것 같아요 향기도 괜찮고 이것저것 써봤지만 이 제품이 제일 맘에 들어 할인하길래 구매했어요\n",
      "저렴히 잘 샀어요!!\n",
      "컬리 할인해서 구매했는데 너무 좋네요\n",
      "쿠폰에 샘플까지 너무 잘 구매했어요.\n",
      "매일 쓰는건데 잘 샀어요~\n"
     ]
    }
   ],
   "source": [
    "from selenium import webdriver\n",
    "from selenium.webdriver.chrome.options import Options\n",
    "from bs4 import BeautifulSoup\n",
    "import time\n",
    "\n",
    "# 1.셀레니움 기본 옵션 설정\n",
    "options = Options()\n",
    "options.add_argument(\"--no-sandbox\")\n",
    "options.add_argument(\"--disable-dev-shm-usage\")\n",
    "options.add_argument(\"--headless\")\n",
    "\n",
    "driver = webdriver.Chrome(options = options)\n",
    "\n",
    "# 2.페이지 접속\n",
    "url = \"https://www.kurly.com/goods/1000078028\"\n",
    "driver.get(url)\n",
    "\n",
    "time.sleep(5) # 페이지 로딩대기 시간 설정\n",
    "\n",
    "# 3. HTML 가져오기\n",
    "soup = BeautifulSoup(driver.page_source, \"html.parser\")\n",
    "\n",
    "# 4. 리뷰 텍스트 추출하기\n",
    "reviews = soup.select(\"p.css-y49dcn.e36z05c13\")\n",
    "for review in reviews :\n",
    "    print(review.get_text().strip())\n",
    "\n",
    "driver.quit()"
   ]
  },
  {
   "cell_type": "code",
   "execution_count": 4,
   "id": "675b798d-4370-49d2-9cf1-f9a3395a7fd7",
   "metadata": {},
   "outputs": [
    {
     "name": "stderr",
     "output_type": "stream",
     "text": [
      "The chromedriver version (137.0.7151.104) detected in PATH at /usr/local/bin/chromedriver might not be compatible with the detected chrome version (138.0.7204.101); currently, chromedriver 138.0.7204.94 is recommended for chrome 138.*, so it is advised to delete the driver in PATH and retry\n"
     ]
    },
    {
     "name": "stdout",
     "output_type": "stream",
     "text": [
      "엑셀 저장 완료 : kurly_reviews.xlsx\n"
     ]
    }
   ],
   "source": [
    "from selenium import webdriver\n",
    "from selenium.webdriver.chrome.options import Options\n",
    "from bs4 import BeautifulSoup\n",
    "import time\n",
    "from openpyxl import Workbook\n",
    "\n",
    "# 1.셀레니움 기본 옵션 설정\n",
    "service = Service(ChromeDriverManager().install())\n",
    "\n",
    "options = Options()\n",
    "options.add_argument(\"--no-sandbox\")\n",
    "options.add_argument(\"--disable-dev-shm-usage\")\n",
    "options.add_argument(\"--headless\")\n",
    "options.add_argument(\"--user-agent=Mozilla/5.0 (Macintosh; Intel Mac OS X 10_15_7) AppleWebKit/537.36 (KHTML, like Gecko) Chrome/138.0.0.0 Safari/537.36\")\n",
    "options.add_argument(\"--lang=ko_KR\")\n",
    "\n",
    "driver = webdriver.Chrome(service = service, options = options)\n",
    "\n",
    "# 2.페이지 접속\n",
    "url = \"https://www.kurly.com/goods/1000078028\"\n",
    "driver.get(url)\n",
    "\n",
    "time.sleep(5) # 페이지 로딩대기 시간 설정\n",
    "\n",
    "# 3. HTML 가져오기\n",
    "soup = BeautifulSoup(driver.page_source, \"html.parser\")\n",
    "\n",
    "# 4. 리뷰 텍스트 추출하기\n",
    "reviews = soup.select(\"p.css-y49dcn.e36z05c13\")\n",
    "review_lists = [review.get_text().strip() for review in reviews]\n",
    "\n",
    "driver.quit()\n",
    "\n",
    "wb = Workbook()\n",
    "ws = wb.active\n",
    "ws.title = \"Kurly Reviews\"\n",
    "\n",
    "ws.append([\"리뷰 내용\"])\n",
    "for item in review_lists :\n",
    "    ws.append([item])\n",
    "\n",
    "wb.save(\"kurly_reviews.xlsx\")\n",
    "print(\"엑셀 저장 완료 : kurly_reviews.xlsx\")"
   ]
  },
  {
   "cell_type": "code",
   "execution_count": 2,
   "id": "faeb7173-600b-4260-b369-f0000e8d4391",
   "metadata": {},
   "outputs": [
    {
     "name": "stdout",
     "output_type": "stream",
     "text": [
      "Collecting konlpy\n",
      "  Using cached konlpy-0.6.0-py2.py3-none-any.whl.metadata (1.9 kB)\n",
      "Collecting JPype1>=0.7.0 (from konlpy)\n",
      "  Downloading jpype1-1.6.0-cp313-cp313-macosx_10_13_universal2.whl.metadata (5.0 kB)\n",
      "Requirement already satisfied: lxml>=4.1.0 in /opt/anaconda3/lib/python3.13/site-packages (from konlpy) (5.3.0)\n",
      "Requirement already satisfied: numpy>=1.6 in /opt/anaconda3/lib/python3.13/site-packages (from konlpy) (2.1.3)\n",
      "Requirement already satisfied: packaging in /opt/anaconda3/lib/python3.13/site-packages (from JPype1>=0.7.0->konlpy) (24.2)\n",
      "Using cached konlpy-0.6.0-py2.py3-none-any.whl (19.4 MB)\n",
      "Downloading jpype1-1.6.0-cp313-cp313-macosx_10_13_universal2.whl (582 kB)\n",
      "\u001b[2K   \u001b[90m━━━━━━━━━━━━━━━━━━━━━━━━━━━━━━━━━━━━━━━━\u001b[0m \u001b[32m582.4/582.4 kB\u001b[0m \u001b[31m15.0 MB/s\u001b[0m eta \u001b[36m0:00:00\u001b[0m\n",
      "Installing collected packages: JPype1, konlpy\n",
      "\u001b[2K   \u001b[90m━━━━━━━━━━━━━━━━━━━━━━━━━━━━━━━━━━━━━━━━\u001b[0m \u001b[32m2/2\u001b[0m [konlpy]\n",
      "\u001b[1A\u001b[2KSuccessfully installed JPype1-1.6.0 konlpy-0.6.0\n",
      "Note: you may need to restart the kernel to use updated packages.\n"
     ]
    }
   ],
   "source": [
    "pip install konlpy"
   ]
  },
  {
   "cell_type": "code",
   "execution_count": 1,
   "id": "979cd2c1-553a-44b8-bfd1-0d7bbc82bf3f",
   "metadata": {},
   "outputs": [
    {
     "name": "stderr",
     "output_type": "stream",
     "text": [
      "The chromedriver version (137.0.7151.104) detected in PATH at /usr/local/bin/chromedriver might not be compatible with the detected chrome version (138.0.7204.158); currently, chromedriver 138.0.7204.157 is recommended for chrome 138.*, so it is advised to delete the driver in PATH and retry\n",
      "WARNING: A restricted method in java.lang.System has been called\n",
      "WARNING: java.lang.System::load has been called by org.jpype.JPypeContext in an unnamed module (file:/opt/anaconda3/lib/python3.13/site-packages/org.jpype.jar)\n",
      "WARNING: Use --enable-native-access=ALL-UNNAMED to avoid a warning for callers in this module\n",
      "WARNING: Restricted methods will be blocked in a future release unless native access is enabled\n",
      "\n"
     ]
    },
    {
     "name": "stdout",
     "output_type": "stream",
     "text": [
      "엑셀 저장 완료: kurly_reviews.xlsx\n"
     ]
    }
   ],
   "source": [
    "from selenium import webdriver\n",
    "from selenium.webdriver.chrome.options import Options\n",
    "from bs4 import BeautifulSoup\n",
    "import time\n",
    "from openpyxl import Workbook\n",
    "from konlpy.tag import Okt\n",
    "from collections import Counter\n",
    "\n",
    "# 1. 셀레니움 옵션 설정\n",
    "options = Options()\n",
    "options.add_argument(\"--no-sandbox\")\n",
    "options.add_argument(\"--disable-dev-shm-usage\")\n",
    "options.add_argument(\"--headless\")\n",
    "\n",
    "driver = webdriver.Chrome(options=options)\n",
    "\n",
    "# 2. 페이지 접속\n",
    "url = \"https://www.kurly.com/goods/1000078028\"\n",
    "driver.get(url)\n",
    "time.sleep(5)  # 페이지 로딩 대기\n",
    "\n",
    "# 3. HTML 파싱\n",
    "soup = BeautifulSoup(driver.page_source, \"html.parser\")\n",
    "reviews = soup.select(\"p.css-y49dcn.e36z05c13\")\n",
    "review_lists = [review.get_text().strip() for review in reviews]\n",
    "\n",
    "driver.quit()\n",
    "\n",
    "# 4. 리뷰 엑셀 저장\n",
    "wb = Workbook()\n",
    "ws = wb.active\n",
    "ws.title = \"Kurly Reviews\"\n",
    "ws.append([\"리뷰 내용\"])\n",
    "for item in review_lists:\n",
    "    ws.append([item])\n",
    "\n",
    "# 5. 키워드 분석\n",
    "okt = Okt()\n",
    "all_text = \" \".join(review_lists)\n",
    "nouns = okt.nouns(all_text)\n",
    "filtered_nouns = [n for n in nouns if len(n) > 1]\n",
    "count = Counter(filtered_nouns)\n",
    "\n",
    "# 6. 키워드 시트에 저장 (상위 30개)\n",
    "ws_keywords = wb.create_sheet(\"Keyword Frequency\")\n",
    "ws_keywords.append([\"키워드\", \"빈도수\"])\n",
    "for word, freq in count.most_common(30):\n",
    "    ws_keywords.append([word, freq])\n",
    "\n",
    "# 7. 저장\n",
    "wb.save(\"kurly_reviews.xlsx\")\n",
    "print(\"엑셀 저장 완료: kurly_reviews.xlsx\")"
   ]
  },
  {
   "cell_type": "code",
   "execution_count": 1,
   "id": "7244593a-a6d3-4e84-95ab-a3a5e2bafc5a",
   "metadata": {},
   "outputs": [
    {
     "name": "stderr",
     "output_type": "stream",
     "text": [
      "WARNING: A restricted method in java.lang.System has been called\n",
      "WARNING: java.lang.System::load has been called by org.jpype.JPypeContext in an unnamed module (file:/opt/anaconda3/lib/python3.13/site-packages/org.jpype.jar)\n",
      "WARNING: Use --enable-native-access=ALL-UNNAMED to avoid a warning for callers in this module\n",
      "WARNING: Restricted methods will be blocked in a future release unless native access is enabled\n",
      "\n"
     ]
    },
    {
     "name": "stdout",
     "output_type": "stream",
     "text": [
      "완료: 전체 키워드 분석 결과 저장됨\n"
     ]
    }
   ],
   "source": [
    "from openpyxl import load_workbook\n",
    "from konlpy.tag import Okt\n",
    "from collections import Counter\n",
    "\n",
    "# 1. 엑셀 파일 열기\n",
    "wb = load_workbook(\"연관키워드 20250721 1031.xlsx\")\n",
    "ws = wb.active\n",
    "\n",
    "# 2. 텍스트 수집 (A열 기준)\n",
    "texts = [row[0] for row in ws.iter_rows(min_row=2, max_col=1, values_only=True) if row[0]]\n",
    "\n",
    "# 3. 명사 분석\n",
    "okt = Okt()\n",
    "all_text = \" \".join(texts)\n",
    "nouns = okt.nouns(all_text)\n",
    "filtered_nouns = [n for n in nouns if len(n) > 1]\n",
    "count = Counter(filtered_nouns)\n",
    "\n",
    "# 4. 새 시트에 전체 키워드 저장\n",
    "ws_keywords = wb.create_sheet(\"키워드 전체분석\")\n",
    "ws_keywords.append([\"명사\", \"빈도수\"])\n",
    "for word, freq in sorted(count.items(), key=lambda x: x[1], reverse=True):\n",
    "    ws_keywords.append([word, freq])\n",
    "\n",
    "# 5. 저장\n",
    "wb.save(\"연관키워드_분석결과.xlsx\")\n",
    "print(\"완료: 전체 키워드 분석 결과 저장됨\")"
   ]
  },
  {
   "cell_type": "code",
   "execution_count": 2,
   "id": "404769ca-9e4e-4da0-aee7-8db41cff3b98",
   "metadata": {},
   "outputs": [
    {
     "name": "stdout",
     "output_type": "stream",
     "text": [
      "완료: 키워드 전체 분석 결과가 저장되었습니다.\n"
     ]
    }
   ],
   "source": [
    "from openpyxl import load_workbook\n",
    "from openpyxl import Workbook\n",
    "from collections import Counter\n",
    "import re\n",
    "\n",
    "# 1. 엑셀 파일 열기\n",
    "wb = load_workbook(\"연관키워드 20250721 1031.xlsx\")\n",
    "ws = wb.active  # 기본 시트\n",
    "\n",
    "# 2. 텍스트 수집 (예: A열 기준)\n",
    "texts = [row[0] for row in ws.iter_rows(min_row=2, max_col=1, values_only=True) if row[0]]\n",
    "\n",
    "# 3. 전체 텍스트 하나로 합치기\n",
    "all_text = \" \".join(texts)\n",
    "\n",
    "# 4. 정규표현식 기반 키워드 추출\n",
    "# - 한글 2글자 이상 단어\n",
    "# - 숫자+영문 조합 (14K, 18K, 925silver 등)\n",
    "# - 영문 단어(써지컬, surgical 등)\n",
    "custom_tokens = re.findall(r'[A-Za-z]*\\d+[A-Za-z]+|\\d+[A-Za-z]*|[가-힣]{2,}', all_text)\n",
    "\n",
    "# 5. 토큰 정제 (길이 1 이하 제거)\n",
    "filtered_tokens = [t for t in custom_tokens if len(t) > 1]\n",
    "\n",
    "# 6. 키워드 빈도수 계산\n",
    "count = Counter(filtered_tokens)\n",
    "\n",
    "# 7. 새 시트에 저장\n",
    "ws_keywords = wb.create_sheet(\"키워드 전체분석\")\n",
    "ws_keywords.append([\"키워드\", \"빈도수\"])\n",
    "\n",
    "for word, freq in sorted(count.items(), key=lambda x: x[1], reverse=True):\n",
    "    ws_keywords.append([word, freq])\n",
    "\n",
    "# 8. 저장\n",
    "wb.save(\"연관키워드_분석결과.xlsx\")\n",
    "print(\"완료: 키워드 전체 분석 결과가 저장되었습니다.\")"
   ]
  },
  {
   "cell_type": "code",
   "execution_count": 3,
   "id": "7f39b8ab-8105-4da0-a9f6-d35fdf0e8980",
   "metadata": {},
   "outputs": [
    {
     "name": "stdout",
     "output_type": "stream",
     "text": [
      "완료: 키워드 전체 분석 결과가 저장되었습니다.\n"
     ]
    }
   ],
   "source": [
    "from openpyxl import load_workbook\n",
    "from openpyxl import Workbook\n",
    "from collections import Counter\n",
    "import re\n",
    "\n",
    "# 1. 엑셀 파일 열기\n",
    "wb = load_workbook(\"연관키워드 20250721 1031.xlsx\")\n",
    "ws = wb.active  # 기본 시트\n",
    "\n",
    "# 2. 텍스트 수집 (예: A열 기준)\n",
    "texts = [row[0] for row in ws.iter_rows(min_row=2, max_col=1, values_only=True) if row[0]]\n",
    "\n",
    "# 3. 전체 텍스트 하나로 합치기\n",
    "all_text = \" \".join(texts)\n",
    "\n",
    "# 4. 정규표현식 기반 키워드 추출\n",
    "# - 숫자+영문 조합 (14K, 925silver 등)\n",
    "# - 영문 단어\n",
    "# - 한글 1글자 이상 단어 포함\n",
    "custom_tokens = re.findall(r'[A-Za-z]*\\d+[A-Za-z]+|\\d+[A-Za-z]*|[가-힣]+', all_text)\n",
    "\n",
    "# 5. 필터링 조건 설정\n",
    "valid_one_letter = {\"금\", \"은\", \"동\", \"컵\", \"컷\"}  # 포함하고 싶은 1글자 키워드\n",
    "stopwords = {\"사용\", \"정도\", \"조금\", \"제품\", \"때문\", \"생각\", \"구매\", \"만족\", \"다음\"}  # 제외할 불용어\n",
    "\n",
    "# 6. 토큰 정제\n",
    "filtered_tokens = [\n",
    "    t for t in custom_tokens\n",
    "    if (len(t) > 1 or t in valid_one_letter) and t not in stopwords\n",
    "]\n",
    "\n",
    "# 7. 키워드 빈도수 계산\n",
    "count = Counter(filtered_tokens)\n",
    "\n",
    "# 8. 새 시트에 저장\n",
    "ws_keywords = wb.create_sheet(\"키워드 전체분석\")\n",
    "ws_keywords.append([\"키워드\", \"빈도수\"])\n",
    "\n",
    "for word, freq in sorted(count.items(), key=lambda x: x[1], reverse=True):\n",
    "    ws_keywords.append([word, freq])\n",
    "\n",
    "# 9. 저장\n",
    "wb.save(\"연관키워드_분석결과.xlsx\")\n",
    "print(\"완료: 키워드 전체 분석 결과가 저장되었습니다.\")"
   ]
  },
  {
   "cell_type": "code",
   "execution_count": 4,
   "id": "42c28570-a8bb-4e69-9fe7-a1183ef306cf",
   "metadata": {},
   "outputs": [
    {
     "name": "stdout",
     "output_type": "stream",
     "text": [
      "완료: 형태소 기반 분석 결과 저장\n"
     ]
    }
   ],
   "source": [
    "from konlpy.tag import Okt\n",
    "from collections import Counter\n",
    "import re\n",
    "from openpyxl import load_workbook\n",
    "\n",
    "# 1. 엑셀 열기\n",
    "wb = load_workbook(\"연관키워드 20250721 1031.xlsx\")\n",
    "ws = wb.active\n",
    "\n",
    "# 2. 텍스트 수집\n",
    "texts = [row[0] for row in ws.iter_rows(min_row=2, max_col=1, values_only=True) if row[0]]\n",
    "all_text = \" \".join(texts)\n",
    "\n",
    "# 3. 형태소 분석\n",
    "okt = Okt()\n",
    "tokens = okt.nouns(all_text)  # 명사만 추출\n",
    "\n",
    "# 4. 필터링\n",
    "valid_one_letter = {\"금\", \"은\", \"동\", \"컵\", \"컷\"}\n",
    "stopwords = {\"사용\", \"정도\", \"조금\", \"제품\", \"때문\", \"생각\", \"구매\", \"만족\", \"다음\"}\n",
    "filtered_tokens = [t for t in tokens if (len(t) > 1 or t in valid_one_letter) and t not in stopwords]\n",
    "\n",
    "# 5. 카운트 및 저장\n",
    "count = Counter(filtered_tokens)\n",
    "ws_keywords = wb.create_sheet(\"형태소기반 키워드\")\n",
    "ws_keywords.append([\"키워드\", \"빈도수\"])\n",
    "for word, freq in sorted(count.items(), key=lambda x: x[1], reverse=True):\n",
    "    ws_keywords.append([word, freq])\n",
    "\n",
    "wb.save(\"연관키워드_분석결과.xlsx\")\n",
    "print(\"완료: 형태소 기반 분석 결과 저장\")"
   ]
  },
  {
   "cell_type": "code",
   "execution_count": 6,
   "id": "bed53717-0074-48eb-8d9a-b8019b5723fd",
   "metadata": {},
   "outputs": [
    {
     "name": "stdout",
     "output_type": "stream",
     "text": [
      "완료: 형태소 + 숫자영문 키워드 분석 결과가 저장되었습니다.\n"
     ]
    }
   ],
   "source": [
    "from konlpy.tag import Okt\n",
    "from collections import Counter\n",
    "from openpyxl import load_workbook\n",
    "import re\n",
    "\n",
    "# 1. 엑셀 파일 열기\n",
    "wb = load_workbook(\"연관키워드 20250721 1031.xlsx\")\n",
    "ws = wb.active\n",
    "\n",
    "# 2. 텍스트 수집\n",
    "texts = [row[0] for row in ws.iter_rows(min_row=2, max_col=1, values_only=True) if row[0]]\n",
    "all_text = \" \".join(texts)\n",
    "\n",
    "# 3. Okt 형태소 분석으로 명사 추출\n",
    "okt = Okt()\n",
    "noun_tokens = okt.nouns(all_text)\n",
    "\n",
    "# 4. 정규표현식으로 숫자+영문 혼합어 등 추출\n",
    "regex_tokens = re.findall(r'[A-Za-z]*\\d+[A-Za-z]+|\\d+[A-Za-z]*', all_text)  # e.g. 14K, 925silver\n",
    "\n",
    "# 5. 유효한 1글자 단어 허용\n",
    "valid_one_letter = {\"금\", \"은\", \"동\", \"컵\", \"컷\"}\n",
    "stopwords = {\"사용\", \"정도\", \"조금\", \"제품\", \"때문\", \"생각\", \"구매\", \"만족\", \"다음\"}\n",
    "\n",
    "# 6. 토큰 병합 및 정제\n",
    "combined_tokens = noun_tokens + regex_tokens\n",
    "filtered_tokens = [\n",
    "    t for t in combined_tokens\n",
    "    if (len(t) > 1 or t in valid_one_letter) and t not in stopwords\n",
    "]\n",
    "\n",
    "# 7. 키워드 빈도수 계산\n",
    "count = Counter(filtered_tokens)\n",
    "\n",
    "# 8. 결과 저장\n",
    "ws_keywords = wb.create_sheet(\"최종키워드분석\")\n",
    "ws_keywords.append([\"키워드\", \"빈도수\"])\n",
    "for word, freq in sorted(count.items(), key=lambda x: x[1], reverse=True):\n",
    "    ws_keywords.append([word, freq])\n",
    "\n",
    "wb.save(\"연관키워드_분석결과.xlsx\")\n",
    "print(\"완료: 형태소 + 숫자영문 키워드 분석 결과가 저장되었습니다.\")"
   ]
  }
 ],
 "metadata": {
  "kernelspec": {
   "display_name": "Python [conda env:base] *",
   "language": "python",
   "name": "conda-base-py"
  },
  "language_info": {
   "codemirror_mode": {
    "name": "ipython",
    "version": 3
   },
   "file_extension": ".py",
   "mimetype": "text/x-python",
   "name": "python",
   "nbconvert_exporter": "python",
   "pygments_lexer": "ipython3",
   "version": "3.13.5"
  }
 },
 "nbformat": 4,
 "nbformat_minor": 5
}
