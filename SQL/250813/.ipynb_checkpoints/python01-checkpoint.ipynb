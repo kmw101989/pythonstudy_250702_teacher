{
 "cells": [
  {
   "cell_type": "code",
   "execution_count": 2,
   "id": "4adbb165-d043-4c1c-9e51-68d71b0e0fe5",
   "metadata": {},
   "outputs": [],
   "source": [
    "import pymysql\n",
    "\n",
    "db = pymysql.connect(\n",
    "    host = \"localhost\",\n",
    "    port = 3306,\n",
    "    user = \"root\",\n",
    "    passwd = \"akzpxld12#4\",\n",
    "    db = \"ecommerce_v1\",\n",
    "    charset = \"utf8\"\n",
    ")"
   ]
  },
  {
   "cell_type": "code",
   "execution_count": 3,
   "id": "80d9dfd2-0e21-4637-9842-bbc028f55e8a",
   "metadata": {},
   "outputs": [
    {
     "data": {
      "text/plain": [
       "<pymysql.connections.Connection at 0x17f89cad0>"
      ]
     },
     "execution_count": 3,
     "metadata": {},
     "output_type": "execute_result"
    }
   ],
   "source": [
    "db"
   ]
  },
  {
   "cell_type": "code",
   "execution_count": 4,
   "id": "403b8939-389b-4563-8296-b171a9df161b",
   "metadata": {},
   "outputs": [],
   "source": [
    "ecommercev1 = db.cursor()"
   ]
  },
  {
   "cell_type": "code",
   "execution_count": 5,
   "id": "db6df9e8-5de7-4f4e-aaee-80139730d647",
   "metadata": {},
   "outputs": [
    {
     "data": {
      "text/plain": [
       "<pymysql.cursors.Cursor at 0x17f89da90>"
      ]
     },
     "execution_count": 5,
     "metadata": {},
     "output_type": "execute_result"
    }
   ],
   "source": [
    "ecommercev1"
   ]
  },
  {
   "cell_type": "code",
   "execution_count": 6,
   "id": "54ffb9d7-a954-4417-af66-c2590f570b8f",
   "metadata": {},
   "outputs": [],
   "source": [
    "sql = \"\"\"\n",
    "    CREATE TABLE product(\n",
    "        PRODUCT_CODE VARCHAR(20) PRIMARY KEY NOT NULL,\n",
    "        TITLE VARCHAR(200) NOT NULL,\n",
    "        ORI_PRICE INT,\n",
    "        DISCOUNT_PRICE INT,\n",
    "        DISCOUNT_PERCENT INT,\n",
    "        DELIVERY VARCHAR(2)\n",
    "    );\n",
    "\"\"\""
   ]
  },
  {
   "cell_type": "code",
   "execution_count": 7,
   "id": "d9679b1a-9463-43dc-becc-cf029e049548",
   "metadata": {},
   "outputs": [
    {
     "data": {
      "text/plain": [
       "'\\n    CREATE TABLE product(\\n        PRODUCT_CODE VARCHAR(20) PRIMARY KEY NOT NULL,\\n        TITLE VARCHAR(200) NOT NULL,\\n        ORI_PRICE INT,\\n        DISCOUNT_PRICE INT,\\n        DISCOUNT_PERCENT INT,\\n        DELIVERY VARCHAR(2)\\n    );\\n'"
      ]
     },
     "execution_count": 7,
     "metadata": {},
     "output_type": "execute_result"
    }
   ],
   "source": [
    "sql"
   ]
  },
  {
   "cell_type": "code",
   "execution_count": 8,
   "id": "9c21fb86-a526-4193-8fdf-84ccfbdf6d63",
   "metadata": {},
   "outputs": [
    {
     "data": {
      "text/plain": [
       "0"
      ]
     },
     "execution_count": 8,
     "metadata": {},
     "output_type": "execute_result"
    }
   ],
   "source": [
    "ecommercev1.execute(sql)"
   ]
  },
  {
   "cell_type": "code",
   "execution_count": 9,
   "id": "9faace4a-6c14-4105-839b-139874f57151",
   "metadata": {},
   "outputs": [],
   "source": [
    "db.commit()"
   ]
  },
  {
   "cell_type": "code",
   "execution_count": 10,
   "id": "ef1e6feb-29af-4465-88ac-4d7031092f0d",
   "metadata": {},
   "outputs": [],
   "source": [
    "db.close()"
   ]
  },
  {
   "cell_type": "code",
   "execution_count": 29,
   "id": "22c10128-ed9a-4201-bb50-855754e647fd",
   "metadata": {},
   "outputs": [],
   "source": [
    "import pymysql\n",
    "\n",
    "db = pymysql.connect(\n",
    "    host = \"localhost\",\n",
    "    port = 3306,\n",
    "    user = \"root\",\n",
    "    passwd = \"akzpxld12#4\",\n",
    "    db = \"ecommerce_v1\",\n",
    "    charset = \"utf8\"\n",
    ")"
   ]
  },
  {
   "cell_type": "code",
   "execution_count": 30,
   "id": "244f8d01-6798-42ba-b3cc-67f9c6185070",
   "metadata": {},
   "outputs": [],
   "source": [
    "cursor = db.cursor()"
   ]
  },
  {
   "cell_type": "code",
   "execution_count": 25,
   "id": "fe0a87d7-2cf9-44d4-bd83-3872900b4142",
   "metadata": {},
   "outputs": [
    {
     "name": "stdout",
     "output_type": "stream",
     "text": [
      "\n",
      "        INSERT INTO product VALUES(\n",
      "            '215879151',\n",
      "            '스위트바니 여름신상 5900원 ~ 롱원피스/티셔츠/긴팔/반팔',\n",
      "            23000,\n",
      "            6900,\n",
      "            70,\n",
      "            'F'\n",
      "        )\n",
      "    \n",
      "\n",
      "        INSERT INTO product VALUES(\n",
      "            '215879152',\n",
      "            '스위트바니 여름신상 5900원 ~ 롱원피스/티셔츠/긴팔/반팔',\n",
      "            23000,\n",
      "            6900,\n",
      "            70,\n",
      "            'F'\n",
      "        )\n",
      "    \n",
      "\n",
      "        INSERT INTO product VALUES(\n",
      "            '215879153',\n",
      "            '스위트바니 여름신상 5900원 ~ 롱원피스/티셔츠/긴팔/반팔',\n",
      "            23000,\n",
      "            6900,\n",
      "            70,\n",
      "            'F'\n",
      "        )\n",
      "    \n",
      "\n",
      "        INSERT INTO product VALUES(\n",
      "            '215879154',\n",
      "            '스위트바니 여름신상 5900원 ~ 롱원피스/티셔츠/긴팔/반팔',\n",
      "            23000,\n",
      "            6900,\n",
      "            70,\n",
      "            'F'\n",
      "        )\n",
      "    \n",
      "\n",
      "        INSERT INTO product VALUES(\n",
      "            '215879155',\n",
      "            '스위트바니 여름신상 5900원 ~ 롱원피스/티셔츠/긴팔/반팔',\n",
      "            23000,\n",
      "            6900,\n",
      "            70,\n",
      "            'F'\n",
      "        )\n",
      "    \n",
      "\n",
      "        INSERT INTO product VALUES(\n",
      "            '215879156',\n",
      "            '스위트바니 여름신상 5900원 ~ 롱원피스/티셔츠/긴팔/반팔',\n",
      "            23000,\n",
      "            6900,\n",
      "            70,\n",
      "            'F'\n",
      "        )\n",
      "    \n",
      "\n",
      "        INSERT INTO product VALUES(\n",
      "            '215879157',\n",
      "            '스위트바니 여름신상 5900원 ~ 롱원피스/티셔츠/긴팔/반팔',\n",
      "            23000,\n",
      "            6900,\n",
      "            70,\n",
      "            'F'\n",
      "        )\n",
      "    \n",
      "\n",
      "        INSERT INTO product VALUES(\n",
      "            '215879158',\n",
      "            '스위트바니 여름신상 5900원 ~ 롱원피스/티셔츠/긴팔/반팔',\n",
      "            23000,\n",
      "            6900,\n",
      "            70,\n",
      "            'F'\n",
      "        )\n",
      "    \n",
      "\n",
      "        INSERT INTO product VALUES(\n",
      "            '215879159',\n",
      "            '스위트바니 여름신상 5900원 ~ 롱원피스/티셔츠/긴팔/반팔',\n",
      "            23000,\n",
      "            6900,\n",
      "            70,\n",
      "            'F'\n",
      "        )\n",
      "    \n",
      "\n",
      "        INSERT INTO product VALUES(\n",
      "            '215879160',\n",
      "            '스위트바니 여름신상 5900원 ~ 롱원피스/티셔츠/긴팔/반팔',\n",
      "            23000,\n",
      "            6900,\n",
      "            70,\n",
      "            'F'\n",
      "        )\n",
      "    \n"
     ]
    }
   ],
   "source": [
    "for index in range(10) :\n",
    "    product_code = 215879150 + index + 1\n",
    "    SQL = f\"\"\"\n",
    "        INSERT INTO product VALUES(\n",
    "            '{product_code}',\n",
    "            '스위트바니 여름신상 5900원 ~ 롱원피스/티셔츠/긴팔/반팔',\n",
    "            23000,\n",
    "            6900,\n",
    "            70,\n",
    "            'F'\n",
    "        )\n",
    "    \"\"\"\n",
    "    print(SQL)\n",
    "    cursor.execute(SQL)"
   ]
  },
  {
   "cell_type": "code",
   "execution_count": 27,
   "id": "7fd9b34d-0445-48ee-a835-82ef90170835",
   "metadata": {},
   "outputs": [],
   "source": [
    "db.commit()"
   ]
  },
  {
   "cell_type": "code",
   "execution_count": 28,
   "id": "3a000d29-4f9e-4e91-ac58-8ab0f35265e3",
   "metadata": {},
   "outputs": [],
   "source": [
    "db.close()"
   ]
  },
  {
   "cell_type": "code",
   "execution_count": null,
   "id": "cc1b815f-5518-4b6b-a3be-75b63e7b9769",
   "metadata": {},
   "outputs": [],
   "source": [
    "# fetchall() : 해당 테이블 내 모든 데이터를 가져옵니다\n",
    "# fetchone() : 매칭되는 해당 값 중 첫번째 값을 가져옵니다\n",
    "# > 이미 앞에서 먼저 찾아온 값이 존재한다면, 해당 값 이후부터 값을 찾아옵니다\n",
    "# fetchmany() : 인자값으로 작성된 숫자만큼의 데이터를 가져옵니다"
   ]
  },
  {
   "cell_type": "code",
   "execution_count": 31,
   "id": "ecc6bf59-d0a2-4d47-b3d6-8f802c3078c6",
   "metadata": {},
   "outputs": [
    {
     "name": "stdout",
     "output_type": "stream",
     "text": [
      "('215673150', '스위트바니 여름신상 5900원 ~ 롱원피스/티셔츠/긴팔/반팔', 23000, 6900, 70, 'F')\n"
     ]
    }
   ],
   "source": [
    "SQL = \"SELECT * FROM product\"\n",
    "cursor.execute(SQL)\n",
    "row = cursor.fetchone()\n",
    "print(row)"
   ]
  },
  {
   "cell_type": "code",
   "execution_count": 32,
   "id": "6f55d240-c782-4fe5-b34e-0a210896c94c",
   "metadata": {},
   "outputs": [
    {
     "name": "stdout",
     "output_type": "stream",
     "text": [
      "('215673151', '스위트바니 여름신상 5900원 ~ 롱원피스/티셔츠/긴팔/반팔', 23000, 6900, 70, 'F')\n"
     ]
    }
   ],
   "source": [
    "row = cursor.fetchone()\n",
    "print(row)"
   ]
  },
  {
   "cell_type": "code",
   "execution_count": 33,
   "id": "a5719355-648c-4007-8073-5f75c26b2c69",
   "metadata": {},
   "outputs": [
    {
     "name": "stdout",
     "output_type": "stream",
     "text": [
      "(('215673152', '스위트바니 여름신상 5900원 ~ 롱원피스/티셔츠/긴팔/반팔', 23000, 6900, 70, 'F'), ('215673153', '스위트바니 여름신상 5900원 ~ 롱원피스/티셔츠/긴팔/반팔', 23000, 6900, 70, 'F'))\n"
     ]
    }
   ],
   "source": [
    "rows = cursor.fetchmany(2)\n",
    "print(rows)"
   ]
  },
  {
   "cell_type": "code",
   "execution_count": 34,
   "id": "44fe2f4a-aca9-4fe3-a8ce-1c59b41439bb",
   "metadata": {},
   "outputs": [
    {
     "name": "stdout",
     "output_type": "stream",
     "text": [
      "('215673154', '스위트바니 여름신상 5900원 ~ 롱원피스/티셔츠/긴팔/반팔', 23000, 6900, 70, 'F')\n",
      "('215673155', '스위트바니 여름신상 5900원 ~ 롱원피스/티셔츠/긴팔/반팔', 23000, 6900, 70, 'F')\n",
      "('215673156', '스위트바니 여름신상 5900원 ~ 롱원피스/티셔츠/긴팔/반팔', 23000, 6900, 70, 'F')\n",
      "('215673157', '스위트바니 여름신상 5900원 ~ 롱원피스/티셔츠/긴팔/반팔', 23000, 6900, 70, 'F')\n",
      "('215673158', '스위트바니 여름신상 5900원 ~ 롱원피스/티셔츠/긴팔/반팔', 23000, 6900, 70, 'F')\n",
      "('215673159', '스위트바니 여름신상 5900원 ~ 롱원피스/티셔츠/긴팔/반팔', 23000, 6900, 70, 'F')\n",
      "('215673160', '스위트바니 여름신상 5900원 ~ 롱원피스/티셔츠/긴팔/반팔', 23000, 6900, 70, 'F')\n",
      "('215879151', '스위트바니 여름신상 5900원 ~ 롱원피스/티셔츠/긴팔/반팔', 23000, 6900, 70, 'F')\n",
      "('215879152', '스위트바니 여름신상 5900원 ~ 롱원피스/티셔츠/긴팔/반팔', 23000, 6900, 70, 'F')\n",
      "('215879153', '스위트바니 여름신상 5900원 ~ 롱원피스/티셔츠/긴팔/반팔', 23000, 6900, 70, 'F')\n",
      "('215879154', '스위트바니 여름신상 5900원 ~ 롱원피스/티셔츠/긴팔/반팔', 23000, 6900, 70, 'F')\n",
      "('215879155', '스위트바니 여름신상 5900원 ~ 롱원피스/티셔츠/긴팔/반팔', 23000, 6900, 70, 'F')\n",
      "('215879156', '스위트바니 여름신상 5900원 ~ 롱원피스/티셔츠/긴팔/반팔', 23000, 6900, 70, 'F')\n",
      "('215879157', '스위트바니 여름신상 5900원 ~ 롱원피스/티셔츠/긴팔/반팔', 23000, 6900, 70, 'F')\n",
      "('215879158', '스위트바니 여름신상 5900원 ~ 롱원피스/티셔츠/긴팔/반팔', 23000, 6900, 70, 'F')\n",
      "('215879159', '스위트바니 여름신상 5900원 ~ 롱원피스/티셔츠/긴팔/반팔', 23000, 6900, 70, 'F')\n",
      "('215879160', '스위트바니 여름신상 5900원 ~ 롱원피스/티셔츠/긴팔/반팔', 23000, 6900, 70, 'F')\n"
     ]
    }
   ],
   "source": [
    "rowsAll = cursor.fetchall()\n",
    "for row in rowsAll :\n",
    "    print(row)"
   ]
  },
  {
   "cell_type": "code",
   "execution_count": 35,
   "id": "fc4bbd7c-0ecc-43ab-861f-65b81d35ee92",
   "metadata": {},
   "outputs": [],
   "source": [
    "SQL = \"\"\"\n",
    "    UPDATE product SET\n",
    "        TITLE = \"썸머 가디건 코디전\",\n",
    "        ORI_PRICE = 33000,\n",
    "        DISCOUNT_PRICE = 9900,\n",
    "        DISCOUNT_PERCENT = 70\n",
    "    WHERE PRODUCT_CODE = \"215879160\"\n",
    "\"\"\""
   ]
  },
  {
   "cell_type": "code",
   "execution_count": 36,
   "id": "ce2899f3-e6a7-49f6-b846-0cd194324d3d",
   "metadata": {},
   "outputs": [
    {
     "data": {
      "text/plain": [
       "1"
      ]
     },
     "execution_count": 36,
     "metadata": {},
     "output_type": "execute_result"
    }
   ],
   "source": [
    "cursor.execute(SQL)"
   ]
  },
  {
   "cell_type": "code",
   "execution_count": 37,
   "id": "6c4a61fe-01bb-47f3-b922-6296be31e6da",
   "metadata": {},
   "outputs": [],
   "source": [
    "db.commit()"
   ]
  },
  {
   "cell_type": "code",
   "execution_count": null,
   "id": "e051306f-79f0-4eec-8fe9-f4a7691752be",
   "metadata": {},
   "outputs": [],
   "source": [
    "# 프로그래밍 언어는 CRUD -> 4가지 기능을 기본적으로 가지고 있다."
   ]
  },
  {
   "cell_type": "code",
   "execution_count": 38,
   "id": "94164aa6-bc33-41be-b8e6-211ddddf904c",
   "metadata": {},
   "outputs": [
    {
     "name": "stdout",
     "output_type": "stream",
     "text": [
      "DELETE FROM product WHERE PRODUCT_CODE = '215879160';\n"
     ]
    }
   ],
   "source": [
    "SQL = \"\"\"DELETE FROM product WHERE PRODUCT_CODE = '215879160';\"\"\"\n",
    "print(SQL)"
   ]
  },
  {
   "cell_type": "code",
   "execution_count": 39,
   "id": "8412c4ac-696e-471a-bca8-a09b781a0695",
   "metadata": {},
   "outputs": [
    {
     "data": {
      "text/plain": [
       "1"
      ]
     },
     "execution_count": 39,
     "metadata": {},
     "output_type": "execute_result"
    }
   ],
   "source": [
    "cursor.execute(SQL)"
   ]
  },
  {
   "cell_type": "code",
   "execution_count": 40,
   "id": "902afddc-1f92-4abb-b32c-d747ecd17d2c",
   "metadata": {},
   "outputs": [],
   "source": [
    "db.commit()"
   ]
  },
  {
   "cell_type": "code",
   "execution_count": null,
   "id": "28319723-b86e-4b7b-9351-c6218d2c78fd",
   "metadata": {},
   "outputs": [],
   "source": []
  },
  {
   "cell_type": "code",
   "execution_count": null,
   "id": "1cb5747e-2bb9-4811-9447-c9f84d7b0dad",
   "metadata": {},
   "outputs": [],
   "source": []
  }
 ],
 "metadata": {
  "kernelspec": {
   "display_name": "Python [conda env:base] *",
   "language": "python",
   "name": "conda-base-py"
  },
  "language_info": {
   "codemirror_mode": {
    "name": "ipython",
    "version": 3
   },
   "file_extension": ".py",
   "mimetype": "text/x-python",
   "name": "python",
   "nbconvert_exporter": "python",
   "pygments_lexer": "ipython3",
   "version": "3.13.5"
  }
 },
 "nbformat": 4,
 "nbformat_minor": 5
}
