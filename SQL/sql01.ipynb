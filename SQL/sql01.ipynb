{
 "cells": [
  {
   "cell_type": "markdown",
   "id": "dc35dade-2edd-453e-a2bd-742d669d3c5b",
   "metadata": {},
   "source": [
    "### SQL 학습 전, 반드시 알고가야하는 개념정의\n",
    "1. 데이터 (Data)\n",
    "2. 데이터베이스 (Database)\n",
    "3. 스키마 (Schema)\n",
    "4. 테이블 (Table)\n",
    "5. SQL"
   ]
  },
  {
   "cell_type": "markdown",
   "id": "c506151f-0b32-4200-8149-9dd7e6ed390a",
   "metadata": {},
   "source": [
    "#### 1. 데이터 (Data)\n",
    "- 수집 가능한 값, 사실, 기록물 등의 \"원초적인 정보\"\n",
    "- 숫자 : 23, 5.9\n",
    "- 문자 : \"David\", \"2025-07-31\"\n",
    "- 상태 : True, False\n",
    "- 데이터 그 자체로는 의미가 부족 -> 구조화가 되어야 데이터는 비로소 가치를 갖게 됨"
   ]
  },
  {
   "cell_type": "markdown",
   "id": "374c5331-1a8b-48a9-b5f8-e198166d1cb1",
   "metadata": {},
   "source": [
    "#### 2. 데이터베이스 (Database = DB)\n",
    "- 여러가지 다양한 데이터를 구조적이고 체계적으로 저장 및 관리할 수 있도록 해주는 저장소\n",
    "- 종류\n",
    "  - 관계형 데이터베이스 (RDBMS -> Oracle // MySQL)\n",
    "  - 비관계형 데이터베이스 (DMBS -> MongoDB)\n",
    "- 오프라인 가게를 운영하는데 일일 고객 주문정보, 특정 기간동안 사용한 재고 수량 등"
   ]
  },
  {
   "cell_type": "markdown",
   "id": "0ef20dbf-212b-4fee-a49f-429d7070d2a8",
   "metadata": {},
   "source": [
    "#### 3.스키마 (Schema)\n",
    "- 데이터베이스의 구조를 정의한 것\n",
    "- 데이터베이스를 어떻게 구조화할 것인지를 정의해놓은 일종의 설계도\n",
    "- 스키마는 데이터베이스 내부에 존재하는 논리적 구조"
   ]
  },
  {
   "cell_type": "markdown",
   "id": "8e6593e7-7e83-4145-863f-8a338ec43307",
   "metadata": {},
   "source": [
    "#### 4. 테이블 (Table)\n",
    "- 관계형 데이터베이스 안에 저장된 실제 데이터의 저장 단위\n",
    "- 구성요소\n",
    "  - 열 (Column) = 속성 (ex. 고객의 나이, 성별, 이메일 등)\n",
    "  - 행 (Row) = 레코드 (ex. 한 명의 고객)"
   ]
  },
  {
   "cell_type": "markdown",
   "id": "caabe497-8bf0-4cda-b2b9-b70d858ab2c0",
   "metadata": {},
   "source": [
    "#### 5. SQL (Structured Query Language)\n",
    "- 관계형 데이터베이스를 정의, 조작, 제어 할 수 있도록 도와주는 표준 언어\n",
    "- 종류\n",
    "  - DDL(Data Definition Language) : CREATE, DROP, ALTER\n",
    "  - DML(Data Manipulation Language) : SELECT, INSERT, UPDATE, DELETE\n",
    "  - DCL(Data Control Language) : GRANT, REVOKE"
   ]
  },
  {
   "cell_type": "markdown",
   "id": "ec8c61f5-70c2-452c-8a98-dedf437ead78",
   "metadata": {},
   "source": [
    "#### 지금까지 설명한 내용에 대한 정리 & 요약\n",
    "\n",
    "- 데이터 : 가장 하위 개념. 원초적인 정보 의미\n",
    "- 테이블 : 해당 데이터를 담은 (*구조화) 틀\n",
    "- 스키마 : 이러한 테이블 간 관계를 정의한 설계도면\n",
    "- 데이터베이스 : 스키마의 개념 속에 존재하는 테이블이 포함된 상위 구조 및 개념\n",
    "- SQL : 이 모든 구조를 만들고, 조작하고, 제어할 수 있도록 해주는 언어"
   ]
  },
  {
   "cell_type": "markdown",
   "id": "d4fcce39-cfe7-490a-8f36-c5d14fae51c0",
   "metadata": {},
   "source": [
    "#### 지금까지 학습했던 데이터 수집 관련 프로그램 정의\n",
    "- 아나콘다 (Anaconda) : 파이썬 통합 관리 플랫폼\n",
    "  - 역할 : 파이썬 관련 다양한 라이브러리, 실행환경, 패키지 등을 종합적으로 제공해주는 플랫폼\n",
    "- 쥬피터 노트북 (Jupyter Notebook) : 파이썬 언어 코딩 프로그램\n",
    "- MySQL : 관계형 데이터 베이스 구조 공간을 설계하도록 지원해주는 관계형데이터 베이스 전문 프로그램\n",
    "- MySQL WorkBench : MySQL을 시각적으로 보면서 테이블을 설계하고 각각의 테이블간 관계를 설정할 수 있도록 도와주는 GUI방식의 보조 프로그램"
   ]
  },
  {
   "cell_type": "markdown",
   "id": "f219ebfb-26d0-448d-af7a-90ce65a5d77e",
   "metadata": {},
   "source": [
    "#### 프로그래밍 영역에서 꼭 알고 있어야 하는 상식\n",
    "- C : Create\n",
    "- R : Read\n",
    "- U : Update\n",
    "- D : Delete"
   ]
  },
  {
   "cell_type": "markdown",
   "id": "c2650c86-27a0-4de4-ab7b-b20be82579e2",
   "metadata": {},
   "source": [
    "#### 테이블 생성\n",
    "\n",
    "```\n",
    "CREATE TABLE 테이블이름 (\n",
    "    컬럼명 데이터형,\n",
    "    컬럼명 데이터형\n",
    "    ...\n",
    "    기본키 (*PRIMARY KEY)\n",
    ")\n",
    "```"
   ]
  },
  {
   "cell_type": "markdown",
   "id": "b14121f4-ee57-4597-a639-77e5d97e08ef",
   "metadata": {},
   "source": [
    "1. Dave 라는 DB 생성\n",
    "2. 해당 DB안에 다음과 같은 속성을 가지고 있는 테이블을 생성하세요.\n",
    "3. id, name, modelnumber, series\n",
    "4. id는 양의 정수값 & 필수값 & 자동증가\n",
    "5. name은 최대 50자까지 가능한 문자열 & 필수값\n",
    "6. modelnumber는 최대 15자까지 가능한 문자열 & 필수값\n",
    "7. series는 최대 30자까지 가능한 문자열 & 필수값\n",
    "8. 고유식별키는 id"
   ]
  },
  {
   "cell_type": "markdown",
   "id": "5d987630-d92b-41e0-b321-24638f48ab61",
   "metadata": {},
   "source": [
    "1. name의 최대 문자입력 값을 20으로 변경\n",
    "2. modelnumber 속성명을 model_number로 변경 & 최대 10자까지로 변경\n",
    "3. series 속성명을 model_type으로 변경 & 최대 10자까지로 변경"
   ]
  },
  {
   "cell_type": "markdown",
   "id": "01290195-3665-4829-ac49-0e3b72bedb1c",
   "metadata": {},
   "source": [
    "1. 기존 데이터베이스 내 mytable을 삭제하세요.\n",
    "2. model_info 라는 새로운 테이블을 만들어주세요.\n",
    "3. 해당 테이블 안에는 id, name, model_num, model_type의 속성값을 설정해주세요.\n",
    "4. 고유키는 id여야 하며, 필수값, 자동증가 속성 부여해주세요.\n",
    "5. name은 최대 20자까지 허용가능, 필수\n",
    "6. model_num는 최대 10자까지 허용가능, 필수\n",
    "7. model_type은 최대 10자까지 허용가능, 필수"
   ]
  },
  {
   "cell_type": "markdown",
   "id": "60052a21-d363-464e-a375-60878c79e67a",
   "metadata": {},
   "source": [
    "### DDL\n",
    "- CREATE DATABASE dbname\n",
    "- CREATE DATABASE IF NOT EXISTS dbname\n",
    "- DROP DATABASE dbname\n",
    "- DROP DATABASE IF EXISTS dbname;\t\n",
    "- SHOW DATABASES\n",
    "- USE dbname\n",
    "- SHOW TABLES\n",
    "- CREATE TABLE tablename\n",
    "- CREATE TABLE IF NOT EXISTS tablename\t\n",
    "- DROP TABLE tablename\n",
    "- DROP TABLE IF EXISTS tablename\n",
    "- ALTER TABLE tablename ADD COLUMN 속성명 속성값;\n",
    "- ALTER TABLE tablename MODIFY COLUMN 속성명 속성값;\n",
    "- ALTER TABLE tablename CHANGE COLUMN 속성명A 속성명B 속성값;\n",
    "- ALTER TABLE tablename DROP COLUMN 속성명;"
   ]
  },
  {
   "cell_type": "markdown",
   "id": "017a459a-3e3a-4ac4-ae4c-c58ce0b4d7e0",
   "metadata": {},
   "source": [
    "### DML\n",
    "- INSERT INTO tablename VALUES(Field Value, Field Value, Field Value, Field Value);\n",
    "- INSERT INTO tablename (Field, Field, Field) VALUES (Field Value, Field Value, Field Value);\n",
    "```\n",
    "- INSERT INTO tablename (Field, Field, Field) VALUES\n",
    "    (Field Value, Field Value, Field Value),\n",
    "    (Field Value, Field Value, Field Value);\n",
    "```\n",
    "- DESC tablename\n",
    "- SELECT * FROM tablename;\n",
    "- SELECT column FROM tablename;\n",
    "- SELECT column, column FROM tablename;\n",
    "- SELECT * FROM tablename WHERE column = value;\n",
    "- \"=\" / \">\" / \"!=\" / <>\n",
    "- SELECT * FROM tablename WHERE column >= value AND column = value;\n",
    "- SELECT * FROM tablename WHERE column >= value OR column = value;\n",
    "- SELECT * FROM tablename WHERE name LIKE \"%value%\";\n",
    "- SELECT * FROM tablename WHERE name LIKE \"_value_\";\n",
    "- UPDATE tablename SET column = value;\n",
    "- UPDATE tablename SET column = value, column = value WHERE primarykey = value; #Safe Mode\n",
    "- DELETE FROM tablename;\n",
    "- DELETE FROM tablename WHERE primarykey = value;"
   ]
  },
  {
   "cell_type": "markdown",
   "id": "93b7de58-791a-4516-8674-fc76e1386004",
   "metadata": {},
   "source": [
    "### DCL\n",
    "- USE mysql => 현재 존재하는 사용자 정보 확인\n",
    "- SELECT host, user FROM user; => 사용자별 세부 권한 확인\n",
    "```\n",
    "CREATE USER \"사용자이름@사용권한범위(*localhost)\"\n",
    "IDENTIFIED BY \"패스워드\"\n",
    "```\n",
    "- 사용권한범위 : localhost // %\n",
    "- SET PASSWORD FOR \"사용자이름\"@\"권한범위\" = \"변경하고싶은 패스워드\" => 패스워드 변경 시\n",
    "- DROP USER \"사용자이름\"@\"권한범위\" => 특정 사용자 계정 삭제 시\n",
    "- SHOW GRANTS FOR \"사용자이름@권한범위\" (ex. SHOW GRANTS FOR \"root@localhost\") => 특정 사용자가 가진 권한을 확인하고 싶을 때\n",
    "- GRANT SELECT ON db이름.테이블이름 TO \"사용자이름@권한범위\" => 특정 DB > 특정 Table에만 접근할 수 있도록 제한\n",
    "- GRANT ALL ON db.* TO \"사용자이름@권한범위\" => 특정 DB > 모든 Table에 접근할 수 있도록 제한\n",
    "- GRANT INSERT, UPDATE, SELECT ON *.* TO \"사용자이름@권한범위\" => 특정 권한만 줄 수 있도록 선택할 수 있음"
   ]
  },
  {
   "cell_type": "markdown",
   "id": "b3a4dbfa-1b65-4a46-828a-70ea7f89396b",
   "metadata": {},
   "source": [
    "## 회원 정보 관리 시스템을 구축하기 위한 멤버십 DB를 하나 만들어주세요.\n",
    "- DB 안에는 1개의 테이블이 존재합니다.\n",
    "- 해당 테이블 내 각각의 레코드 안에는 회원 번호, 이름, 이메일, 생년월일, 가입일시, 포인트, 성별 이 반드시 속성으로 포함되어있어야 합니다.\n",
    "- 최소 3명의 회원 정보가 삽입되어있도록 임의로 데이터를 적용해주세요.\n",
    "- 해당 DB 및 테이블이 모두 설계되었다면, 고객 포인트가 1000 이상인 회원만 조회할 수 있도록 코드를 작성해주세요.\n",
    "- 이메일 도메인이 @google.com인 사람만 조회할 수 있도록 코드를 작성해주세요."
   ]
  },
  {
   "cell_type": "markdown",
   "id": "4c05ab95-a3e8-4d93-87c9-5cefbe509508",
   "metadata": {},
   "source": [
    "### SELECT 문법 :\n",
    "- LIMIT : 가져올 수 있는 데이터 중 일부만 가져오고 싶을 때\n",
    "- COUNT (*집계함수) : 데이터의 총 개수를 확인하고 싶을 때\n",
    "- DISTINCT : 특정 값을 가져올 때, 중복된 값을 출력하지 않고 싶을 때 -> 범주형 데이터\n",
    "- SUM : 해당 컬럼값의 합계 -> 수치형 데이터\n",
    "- AVG : 해당 컬럼값의 평균 -> 수치형 데이터\n",
    "- MAX : 해당 컬럼값의 최대값 -> 수치형 데이터\n",
    "- MIN : 해당 컬럼값의 최소값 -> 수치형 데이터\n",
    "- GROUP BY : 특정 컬럼값을 기반으로 그룹핑하기\n",
    "  - SELECT rating FROM film GROUP BY rating -> film이라는 테이블에서 rating값을 찾아오는데, 해당 rating의 값을 그룹화해서 찾아와라!!\n",
    "  - SELECT COUNT(*) FROM film GROUP BY rating -> 각 rating 값의 종류별로 몇개의 데이터가 있는지 확인\n",
    "  - SELECT COUNT(*) FROM film WHERE 조건문 GROUP BY rating -> 특정 조건에 맞는 데이터 중 rating 값의 종류별로 몇 개의 데이터가 있는지 확인\n",
    "- ORDER BY : 특정 컬럼값을 기준으로 데이터를 정렬 (*오름차순 = ASC || 내림차순 = DESC)\n",
    "  - 만약 DESC, ASC 중 그 어떤 값을 입력하지 않는다면, 기본 디폴트 값은 ASC 정렬로 실행!\n",
    "\n",
    "```\n",
    "SELECT 컬럼명\n",
    "FROM 테이블명\n",
    "WHERE 조건절\n",
    "GROUP BY 컬럼\n",
    "ORDER BY 컬럼\n",
    "LIMIT 출력갯수\n",
    "```"
   ]
  },
  {
   "cell_type": "markdown",
   "id": "fbe69fdf-6b9a-4086-9eae-82e46b8c4786",
   "metadata": {},
   "source": [
    "### Data 대분류 리스트 :\n",
    "1) 수치형 데이터 : (1, 2, 1.1 등) -> 해당 수치값이 각각 고유한 의미\n",
    "2) 범주형 데이터 : (남/여, 미성년/성인 등) -> 중복값 제거해야하는 경우가 많음"
   ]
  },
  {
   "attachments": {},
   "cell_type": "markdown",
   "id": "885fccca-e57c-4be1-8d2d-13e835dafbfe",
   "metadata": {},
   "source": [
    "### SQL 중급 단계\n",
    "1) FOREIGN KEY (외래 키) <-> PRIMARY KEY (고유 키)\n",
    "2) HAVING\n",
    "   - HAVING절을 활용해서 조건 비교!!!\n",
    "   - WHERE절을 활용해서도 조건 비교가능한데, 왜 굳이 HAVING절이 왜 필요할까?\n",
    "   - 특정 테이블 내 데이터를 그룹핑하는 GROUP BY를 적용한 상태에서 집계함수가 포함된 조건식을 사용하려고 할 때, 반드시 HAVING 절을 사용해야함!!!\n",
    "3) JOIN (*실제 실무에서도 굉장히 많이 사용되는 기능)\n",
    "   - 1개의 테이블에 너무 많은 방대한 데이터를 몰아넣는 경우는 없음!!!\n",
    "   - 복수의 테이블을 관리하는 경우가 빈번 -> 각각의 테이블간 연결고리를 FOREIGN KEY 만들어놓고, 해당 테이블간 연결하는 경우가 숙명적으로 많을 수 밖에 없음 -> 그래서 해당 문법을 정말 많이 사용함!!!\n",
    "   - 서로 다른 테이블을 하나의 연결된 테이블로 활용하고자 할 때 JOIN\n",
    "   - INNER JOIN : 서로 다른 테이블간 매칭되는 데이터에 한해서, 해당 데이터를 기준으로 연결\n",
    "   - (*JOIN이라는 문법을 사용하면 default가 INNER JOIN이기 때문에 실무에서는 INNER 수식어 생략 가능)\n",
    "   - 서로 다른 테이블을 하나로 연결하기 위해서는 어떤 데이터를 기준으로 연결할 것인가? 물음 -> ON 전치사\n",
    "   - OUTER JOIN : 서로 매칭되지 않는 데이터도 모두 찾아옴!!! (*상대적으로 많이 사용하지 않음)\n",
    "     - LEFT OUTER JOIN : 먼저 언급된 (*Left data = 부모데이터)를 기준으로 다른 테이블을 연결, 자식데이터에 부모데이터와 매칭되지 않은 데이터가 존재하더라도 해당 데이터를 누락시키지 않아고 찾아옴!!!\n",
    "     - RIGHT OUTER JOIN : 자식데이터를 기준으로 다른 테이블을 연결, 마찬가지로 매칭되지 않은 데이터들을 누락시키지 않고 모두 찾아옴!!!\n",
    "4) SubQuery\n",
    "   - SQL문 안에 포함되어있는 SQL문 => 중첩 SQL문\n",
    "5) INDEX\n",
    "   - 파이썬 > 리스트 > 리스트 자료구조 내부에 있는 아이템들에게 각각 인덱스값을 부여\n",
    "   - SQL구문을 활용해서 컬럼 안에 입력되어있는 데이터들에게 개별적인 인덱스값을 부여 -> 값을 서칭해서 찾아오는 빈도 잦음 -> 너무 많은 시간, 과정\n",
    "   - 인덱스 종류\n",
    "     - 클러스터형 인덱스 : 영어 사전과 같은 형태로 데이터를 정렬한다고 생각하면 됨 ex. Primary Key // Foreign Key // Unique\n",
    "     - 보조 인덱스 : 데이터는 그대로 둔 상태에서 마치 책으로 비유하면 책 끝부분에 있는 찾아보기 색인 페이지 정도로 생각하면 됨.\n",
    "     - SHOW INDEX FROM customers; # 특정 테이블 내 인덱스 값 조회\n",
    "     - ALTER TABLE userTbl ADD CONSTRAINT TESTDate UNIQUE(mDate); # 보조인덱스 생성하는 방법\n",
    "     - CREATE INDEX idx_birth ON userTbl(birthYear); # 보조인덱스 생성하는 방법\n",
    "     - ALTER TABLE userTbl ADD INDEX idx_addr(addr); # 보조인덱스 생성하는 방법\n",
    "     - ALTER TABLE userTbl DROP INDEX idx_addr; # 보조인덱스 삭제하는 방법"
   ]
  },
  {
   "cell_type": "markdown",
   "id": "a04710fd-c16f-4611-b2d2-7d428f3bf70f",
   "metadata": {},
   "source": [
    "#### 무신사 브랜드 사용할 것 같은 느낌으로 Table 생성 -> 마케터의 관점에서 어떻게 사용하면 좋을까?\n",
    "- 고객 테이블 (*고객 정보 가지고 있는 데이터 -> 나이, 성별, 주소, 이메일, 전화번호 등)\n",
    "- 상품 테이블 (*상품 정보 가지고 있는 데이터 -> 재고, 메인카테고리, 서브카테고리, 상품가격, 할인가격, 할인률 등)\n",
    "- 주문 테이블 (*주문 정보 가지고 있는 데이터 -> 주문수량, 주문한날짜, 외래 키 -> 고객 & 상품)\n",
    "- 리뷰 테이블 (*리뷰 정보 가지고 있는 데이터 -> 평점, 리뷰내용, 리뷰작성 날짜, 외래 키 -> 고객 & 상품)"
   ]
  },
  {
   "cell_type": "markdown",
   "id": "628e6564-6f4d-4e03-b034-365170db74fe",
   "metadata": {},
   "source": [
    "## 데이터 분석 마케터\n",
    "- 자사 매출 증대를 목표 -> 마케팅\n",
    "- 회원들의 등급을 파악하고 해당 등급에 따른 차별화된 CRM 마케팅을 해야겠다는 생각\n",
    "- 회원등급별 인원수 -> 가장많은 등급에 속해있는 사용자들을 분석해서 페르소나화 해야겠다\n",
    "- 결론 : 회원등급별 인원수 출력\n",
    "\n",
    "- 자사몰에서 상품을 판매중 -> 꾸준하게 잘 판매되고 있는 상품과 그렇지 않은 상품을 구분\n",
    "- 잘 판매되고 있는 상품은 지속적으로 신규고객 및 충성고객 확보를 목표\n",
    "- 판매실적이 좋지 않은 상품은 단종 || 리뉴얼 재고 관리\n",
    "- 결론 : 상품별 평균평점 출력\n",
    "\n",
    "- OKR, KPI, NSM\n",
    "- NSM 지표 의거해서 월별 주문건수가 00건 이하로 나오면 위기 // 000건 이상이 나오면 긍정\n",
    "- 현재 시점을 기준으로 최근 1개월간 전체 주문건수를 확인\n",
    "- 결론 : 최근 30일 이내에 주문된 전체 총 건수 출력"
   ]
  },
  {
   "cell_type": "markdown",
   "id": "49ff809f-edfe-4714-a421-613e8f2b4608",
   "metadata": {},
   "source": [
    "### Python & MySQL (feat. SQL)"
   ]
  },
  {
   "cell_type": "markdown",
   "id": "d2874af0-e1e5-4909-87ee-3c6ac095a6bd",
   "metadata": {},
   "source": [
    "- pip install pymysql\n",
    "- 패턴코드 (Pattern Code)\n",
    "  - Python에서 정해진 패턴을 활용해서 SQL 문법 실행\n",
    "  - db = pymysql.connect()\n",
    "  - cursor = db.cursor()\n",
    "  - sql = \" \"\n",
    "  - cursor.execute(sql, (product, category))\n",
    "  - db.commit()\n",
    "  - db.close()"
   ]
  },
  {
   "cell_type": "markdown",
   "id": "273596ed-fc2a-47b5-9166-0b6c637bfd06",
   "metadata": {},
   "source": [
    "### MySQL 중.고급 문법 및 단계"
   ]
  },
  {
   "cell_type": "markdown",
   "id": "e1e3270d-4408-4ae6-96c4-c020cdf21510",
   "metadata": {},
   "source": [
    "- 다양한 SQL 함수\n",
    "  - 문자열 함수 :\n",
    "    1) LENGTH(string) : 문자의 길이를 반환하는 함수\n",
    "    2) UPPER(string) : 특정 문자를 대문자로 변환시켜주는 함수\n",
    "    3) LOWER(string) : 특정 문자를 소문자로 변환시켜주는 함수\n",
    "    4) CONCAT(string1, string2, ...) : 복수의 문자열을 하나로 연결하는 함수\n",
    "    5) SUBSTRING(string, start, length) : 문자열에서 일부 문자열만 추출해주는 함수\n",
    "  - 날짜/시간 함수 :\n",
    "    1) NOW() : 현재 날짜와 시간을 반환하는 함수\n",
    "    2) CURDATE() : 현재 날짜를 반환하는 함수\n",
    "    3) CURTIME() : 현재 시간을 반환하는 함수\n",
    "    4) DATE_ADD(date, INTERVAL unit) : 특정 날짜에서 간격을 추가해주는 함수\n",
    "       - unit type : MONTH / DAY / HOUR / MINUTE / SECOND\n",
    "    6) DATE_SUB(date, INTERVAL unit) : 특정 날짜에서 간격을 빼주는 함수\n",
    "       - unit type : MONTH / DAY / HOUR / MINUTE / SECOND\n",
    "    7) EXTRACT(추출해오고자 하는 값 = field FROM 추출해오고자 하는 대상 = source)\n",
    "    8) YEAR(), MONTH(), DAY(), HOUR(), MINUTE(), SECOND()\n",
    "    9) DAYOFWEEK() : 특정 날짜의 요일을 반환 -> 1요일 : 일요일 // 7요일 : 토요일\n",
    "    10) DATE_FORMAT() : 형식지정자로 값을 받아서 요일을 출력할 수 있음 -> %W, %a\n",
    "        - %Y : 4자리 연도 2025\n",
    "        - %y : 연도의 마지막 2자리 25\n",
    "        - %M : 영문 월 June\n",
    "        - %m : 월을 두자리 숫자로 표기 01 02 07\n",
    "        - %c : 월을 한자리 숫자로 표기 1 2 3 5 7\n",
    "        - %D : 일을 숫자 + 영문 접미사로 표기 1st 21th\n",
    "        - %d : 일을 두자리 숫자 31 10 09\n",
    "        - %H : 시간을 24시간 형식의 두자리로표기 15 18 20\n",
    "        - %h : 시간은 12시간 형식의 두자리로표기 03 09\n",
    "        - %i : 분을 두자리 숫자로 표기\n",
    "        - %s : 초를 두자리 숫자로 표기\n",
    "    12) TIMESTAMPDIFF(unit, start_datetime, end_datetime) : 두 날짜 혹은 시간 값의 차이를 계산할 때 사용하는 함수\n",
    "        - unit type : MONTH / DAY / HOUR / MINUTE / SECOND\n",
    "    13) ABS(number) : Absolute : 절대적인 -> 절대값을 추출\n",
    "    14) CEIL(number) : 올림처리\n",
    "    15) FLOOR(number) : 버림처리\n",
    "    16) ROUND(number) : 반올림처리 -> ROUND(숫자A, 숫자B) -> 숫자B가 최종적인 반올림의 결과값이 되도록!\n",
    "    17) SQRT(number) : 해당 숫자의 제곱근을 반환하는 함수\n",
    "- SubQuery 고급활용 : SQL 쿼리문안에 또다른 SQL 쿼리문이 존재하는 것\n",
    "  \n",
    "- 집합 연산자\n",
    "- 트랜잭션 제어\n",
    "- VIEW\n",
    "- WITH\n",
    "- CASE WHEN\n",
    "- GROUP_CONCAT()\n",
    "- 고급 윈도우 함수"
   ]
  },
  {
   "cell_type": "code",
   "execution_count": null,
   "id": "f53b5474-0fe9-4af1-9f6d-ed7bcb9a8350",
   "metadata": {},
   "outputs": [],
   "source": []
  },
  {
   "cell_type": "code",
   "execution_count": null,
   "id": "7aa4b05e-7d91-4f7f-919a-bedeb0e48558",
   "metadata": {},
   "outputs": [],
   "source": []
  },
  {
   "cell_type": "code",
   "execution_count": null,
   "id": "b92eadf4-8a98-4e23-a52d-ea5026874394",
   "metadata": {},
   "outputs": [],
   "source": []
  },
  {
   "cell_type": "code",
   "execution_count": null,
   "id": "20b76ec7-c69d-47fb-b27e-22006e641ae1",
   "metadata": {},
   "outputs": [],
   "source": []
  },
  {
   "cell_type": "code",
   "execution_count": null,
   "id": "c1e26c62-68b8-4c20-9acb-97a4910bdb73",
   "metadata": {},
   "outputs": [],
   "source": []
  },
  {
   "cell_type": "code",
   "execution_count": null,
   "id": "3006caed-80ce-4661-ba0b-ff8019b85491",
   "metadata": {},
   "outputs": [],
   "source": []
  },
  {
   "cell_type": "code",
   "execution_count": null,
   "id": "1e365f66-fc81-469e-886e-425f2a6c6849",
   "metadata": {},
   "outputs": [],
   "source": []
  },
  {
   "cell_type": "code",
   "execution_count": null,
   "id": "904360d9-4556-44e4-95e1-01677c6413b5",
   "metadata": {},
   "outputs": [],
   "source": []
  },
  {
   "cell_type": "code",
   "execution_count": null,
   "id": "6e9f2e5a-b57e-428d-8360-db301e25ea10",
   "metadata": {},
   "outputs": [],
   "source": []
  }
 ],
 "metadata": {
  "kernelspec": {
   "display_name": "Python [conda env:base] *",
   "language": "python",
   "name": "conda-base-py"
  },
  "language_info": {
   "codemirror_mode": {
    "name": "ipython",
    "version": 3
   },
   "file_extension": ".py",
   "mimetype": "text/x-python",
   "name": "python",
   "nbconvert_exporter": "python",
   "pygments_lexer": "ipython3",
   "version": "3.13.5"
  }
 },
 "nbformat": 4,
 "nbformat_minor": 5
}
